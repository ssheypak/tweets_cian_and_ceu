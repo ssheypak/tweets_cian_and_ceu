{
 "cells": [
  {
   "cell_type": "code",
   "execution_count": 1,
   "metadata": {},
   "outputs": [],
   "source": [
    "import json\n",
    "import requests"
   ]
  },
  {
   "cell_type": "code",
   "execution_count": 2,
   "metadata": {},
   "outputs": [
    {
     "name": "stdout",
     "output_type": "stream",
     "text": [
      "dict_keys(['consumer_key', 'consumer_secret', 'access_toke', 'access_token_secret', 'bearer_token'])\n"
     ]
    }
   ],
   "source": [
    "with open(\"tokens.json\") as f:\n",
    "    tokens = json.load(f)\n",
    "    print(tokens.keys())"
   ]
  },
  {
   "cell_type": "markdown",
   "metadata": {},
   "source": [
    "### Api reference\n",
    "https://developer.twitter.com/en/docs/twitter-api/tweets/search/api-reference\n",
    "\n",
    "- `GET /2/tweets/search/recent`\n",
    "- `GET /2/tweets/search/all` (Academic Research application is required)\n",
    "\n",
    "### How to build a query\n",
    "For API v.2 we use `Core` operators only\n",
    "- https://developer.twitter.com/en/docs/twitter-api/tweets/search/integrate/build-a-query#availability\n",
    "- https://developer.twitter.com/en/docs/twitter-api/tweets/search/integrate/build-a-query#list\n",
    "\n"
   ]
  },
  {
   "cell_type": "code",
   "execution_count": 3,
   "metadata": {},
   "outputs": [],
   "source": [
    "search_tweets_url = \"https://api.twitter.com/2/tweets/search/recent\"\n",
    "\n",
    "headers = {\n",
    "    \"Authorization\": \"Bearer \" + tokens[\"bearer_token\"]\n",
    "}\n",
    "\n",
    "cian_params = {\n",
    "    \"query\" : \"циан lang:ru -from:cian_realty\",\n",
    "    # \"sort_order\": \"relevancy\",\n",
    "    # \"end_time\": \"2022-02-18T23:59:59Z\",\n",
    "    \"max_results\": 10\n",
    "}"
   ]
  },
  {
   "cell_type": "code",
   "execution_count": 4,
   "metadata": {},
   "outputs": [],
   "source": [
    "response = requests.get(\n",
    "    search_tweets_url,\n",
    "    headers=headers,\n",
    "    params=cian_params\n",
    ")"
   ]
  },
  {
   "cell_type": "code",
   "execution_count": 6,
   "metadata": {},
   "outputs": [
    {
     "data": {
      "text/plain": [
       "<Response [200]>"
      ]
     },
     "execution_count": 6,
     "metadata": {},
     "output_type": "execute_result"
    }
   ],
   "source": [
    "response"
   ]
  },
  {
   "cell_type": "code",
   "execution_count": 8,
   "metadata": {},
   "outputs": [
    {
     "data": {
      "text/plain": [
       "{'data': [{'id': '1495061251927515137',\n",
       "   'text': 'RT @antisekisov: зашел на циан прицениться к хатам и раскрыл убийство https://t.co/DeVOP8AX14'},\n",
       "  {'id': '1495054177218617347',\n",
       "   'text': 'мои любимые соц сети это хэдхантер и циан'},\n",
       "  {'id': '1495040060701483010',\n",
       "   'text': 'Главная идея вот этих приложений вроде Авито, Циан, Лалаво или Яндекс.Недвижимость в том, чтобы не было лишних физлиц или юрлиц между арендодателями и арендаторов, чтобы не было лишних трат на найм риелторов ЖЕ? Но в этих приложениях одни агенты и риелторы. Или я тупой?'},\n",
       "  {'id': '1495026586852241410',\n",
       "   'text': '@dtroode @cptnsir тебя убьёт циан где ты не сможешь снять хату а меня ёбнет ариец златовласый'},\n",
       "  {'id': '1495007535358693380',\n",
       "   'text': 'у меня есть два настроения: циан и озон'},\n",
       "  {'id': '1494993578816327681',\n",
       "   'text': 'проснулась сегодня в 8.30 и решила «просто полистать» циан\\n\\nк 11.30 уже получила одобрение ипотеки\\nк 15.00 назначила встречу с риэлтором на завтра\\nк 16.00 договорилась на просмотр варианта квартиры на понедельник\\n\\nчто могу сказать: рекомендую не вставать раньше 12 по выходным'},\n",
       "  {'id': '1494986114146476032',\n",
       "   'text': 'RT @Beria911: Россия, которую потеряли, наконец-то возвращается\\n\\nСогласно данным портала ЦИАН, в России стали чаще снимать квартиры вскладч…'},\n",
       "  {'id': '1494971254083923968',\n",
       "   'text': 'зашел на циан прицениться к хатам и раскрыл убийство https://t.co/DeVOP8AX14'},\n",
       "  {'id': '1494959621282447365',\n",
       "   'text': '@terbiyarchitect Привет авито и циан'},\n",
       "  {'id': '1494919398439723009',\n",
       "   'text': 'Что это за налюбилово? #ЦИАН https://t.co/nJwMg781US'}],\n",
       " 'meta': {'newest_id': '1495061251927515137',\n",
       "  'oldest_id': '1494919398439723009',\n",
       "  'result_count': 10,\n",
       "  'next_token': 'b26v89c19zqg8o3fpe76kznr1gjq17tt9ubfzuiy9v4hp'}}"
      ]
     },
     "execution_count": 8,
     "metadata": {},
     "output_type": "execute_result"
    }
   ],
   "source": [
    "response.json()"
   ]
  },
  {
   "cell_type": "code",
   "execution_count": 9,
   "metadata": {},
   "outputs": [],
   "source": [
    "texts = [x[\"text\"] for x in response.json()[\"data\"]]"
   ]
  },
  {
   "cell_type": "code",
   "execution_count": 11,
   "metadata": {},
   "outputs": [
    {
     "data": {
      "text/plain": [
       "10"
      ]
     },
     "execution_count": 11,
     "metadata": {},
     "output_type": "execute_result"
    }
   ],
   "source": [
    "len(texts)"
   ]
  },
  {
   "cell_type": "markdown",
   "metadata": {},
   "source": [
    "### Primitive preprocessing"
   ]
  },
  {
   "cell_type": "code",
   "execution_count": 12,
   "metadata": {},
   "outputs": [],
   "source": [
    "from collections import Counter\n",
    "from nltk.tokenize import WhitespaceTokenizer, WordPunctTokenizer, TreebankWordTokenizer\n",
    "from nltk.corpus import stopwords"
   ]
  },
  {
   "cell_type": "code",
   "execution_count": 19,
   "metadata": {},
   "outputs": [
    {
     "data": {
      "text/plain": [
       "[('циан', 10),\n",
       " ('и', 8),\n",
       " (':', 7),\n",
       " (',', 7),\n",
       " ('на', 6),\n",
       " ('@', 5),\n",
       " ('к', 5),\n",
       " ('в', 4),\n",
       " ('не', 4),\n",
       " ('https', 3),\n",
       " ('или', 3),\n",
       " ('?', 3),\n",
       " ('rt', 2),\n",
       " ('зашел', 2),\n",
       " ('прицениться', 2),\n",
       " ('хатам', 2),\n",
       " ('раскрыл', 2),\n",
       " ('убийство', 2),\n",
       " ('//t.co/devop8ax14', 2),\n",
       " ('это', 2)]"
      ]
     },
     "execution_count": 19,
     "metadata": {},
     "output_type": "execute_result"
    }
   ],
   "source": [
    "tokenizer = TreebankWordTokenizer()\n",
    "listoftokens = [tokenizer.tokenize(x.lower()) for x in texts]\n",
    "tokens = sum(listoftokens, [])\n",
    "words_cnt = Counter(tokens)\n",
    "words_cnt.most_common(20)"
   ]
  },
  {
   "cell_type": "code",
   "execution_count": 21,
   "metadata": {},
   "outputs": [
    {
     "data": {
      "text/plain": [
       "['и', 'в', 'во', 'не', 'что']"
      ]
     },
     "execution_count": 21,
     "metadata": {},
     "output_type": "execute_result"
    }
   ],
   "source": [
    "stopwords.words('russian')[:5]"
   ]
  },
  {
   "cell_type": "code",
   "execution_count": 27,
   "metadata": {},
   "outputs": [],
   "source": [
    "import string \n",
    "punct = string.punctuation"
   ]
  },
  {
   "cell_type": "code",
   "execution_count": 30,
   "metadata": {},
   "outputs": [
    {
     "data": {
      "text/plain": [
       "[('циан', 10),\n",
       " ('https', 3),\n",
       " ('rt', 2),\n",
       " ('зашел', 2),\n",
       " ('прицениться', 2),\n",
       " ('хатам', 2),\n",
       " ('раскрыл', 2),\n",
       " ('убийство', 2),\n",
       " ('//t.co/devop8ax14', 2),\n",
       " ('это', 2),\n",
       " ('этих', 2),\n",
       " ('авито', 2),\n",
       " ('лишних', 2),\n",
       " ('квартиры', 2),\n",
       " ('antisekisov', 1),\n",
       " ('мои', 1),\n",
       " ('любимые', 1),\n",
       " ('соц', 1),\n",
       " ('сети', 1),\n",
       " ('хэдхантер', 1)]"
      ]
     },
     "execution_count": 30,
     "metadata": {},
     "output_type": "execute_result"
    }
   ],
   "source": [
    "russian_stopwords = stopwords.words('russian')\n",
    "russian_stopwords.extend([x for x in punct])\n",
    "russian_stopwords = set(russian_stopwords)\n",
    "\n",
    "words_cnt = Counter([token for token in tokens if token not in russian_stopwords])\n",
    "words_cnt.most_common(20)"
   ]
  }
 ],
 "metadata": {
  "kernelspec": {
   "display_name": "Python 3",
   "language": "python",
   "name": "python3"
  },
  "language_info": {
   "codemirror_mode": {
    "name": "ipython",
    "version": 3
   },
   "file_extension": ".py",
   "mimetype": "text/x-python",
   "name": "python",
   "nbconvert_exporter": "python",
   "pygments_lexer": "ipython3",
   "version": "3.9.6"
  }
 },
 "nbformat": 4,
 "nbformat_minor": 4
}
