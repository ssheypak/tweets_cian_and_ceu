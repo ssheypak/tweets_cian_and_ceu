{
 "cells": [
  {
   "cell_type": "markdown",
   "metadata": {},
   "source": [
    "### Загружаем текст и ищем, по какому символу разбить"
   ]
  },
  {
   "cell_type": "code",
   "execution_count": 1,
   "metadata": {},
   "outputs": [],
   "source": [
    "with open(\"data/reviews.txt\", \"r\") as file:\n",
    "    text = file.read()\n",
    "    \n",
    "text = text.lstrip(\"INTELLIGENCE\\n\\n\")"
   ]
  },
  {
   "cell_type": "code",
   "execution_count": 2,
   "metadata": {},
   "outputs": [],
   "source": [
    "tokens = text.split()"
   ]
  },
  {
   "cell_type": "code",
   "execution_count": 3,
   "metadata": {
    "scrolled": true
   },
   "outputs": [
    {
     "data": {
      "text/plain": [
       "[('1.215', 1244),\n",
       " ('и', 640),\n",
       " ('не', 636),\n",
       " ('1.214.1', 484),\n",
       " ('в', 432),\n",
       " ('сдавать', 430),\n",
       " ('кому', 405),\n",
       " ('на', 259),\n",
       " ('что', 257),\n",
       " ('только', 234),\n",
       " ('я', 217),\n",
       " ('Не', 205),\n",
       " ('за', 192),\n",
       " ('Дискриминация', 182),\n",
       " ('приложение', 179),\n",
       " ('квартиру', 176),\n",
       " ('а', 164),\n",
       " ('хочу', 163),\n",
       " ('с', 158),\n",
       " ('Я', 146),\n",
       " ('для', 145),\n",
       " ('это', 144),\n",
       " ('славян', 139),\n",
       " ('как', 134),\n",
       " ('вы', 133)]"
      ]
     },
     "execution_count": 3,
     "metadata": {},
     "output_type": "execute_result"
    }
   ],
   "source": [
    "from collections import Counter\n",
    "c = Counter(tokens)\n",
    "c.most_common(25)"
   ]
  },
  {
   "cell_type": "markdown",
   "metadata": {},
   "source": [
    "Разбиваем"
   ]
  },
  {
   "cell_type": "code",
   "execution_count": 4,
   "metadata": {},
   "outputs": [],
   "source": [
    "import re\n",
    "reviews = [x.strip().lower() for x in re.split(\"1.215|1.214.1\", text)]"
   ]
  },
  {
   "cell_type": "code",
   "execution_count": 5,
   "metadata": {},
   "outputs": [
    {
     "data": {
      "text/plain": [
       "['дискриминация собственников жилья. русофобы!!!',\n",
       " 'ужас из за убранной возможности указывать национальность, костре приехали и чуть не избили нерусские за то что я им отказал! удаляю навсегда!!!!',\n",
       " 'я буду сдавать квартиру,кому хочу и это буду славяне!🙋🏼\\u200d♂️☀️ приложение ужасное,и проведайте там свои акции компании,как вы играете в толерастов и акции идут в упадок…',\n",
       " 'спасибо циан! придется разговаривать с людьми, плохо знающими русский язык, которые хотят заселиться всем табуном в мою квартиру. спасибо, вы сами же и усложнили поиск квартиры иностранцам ближнего зарубежья, теперь им придется побегать и потрать кучу времени на поиск человека, которому безразлично на то, кому сдавать квартиру',\n",
       " 'почему решать кому-то кому я хочу сдавать квартиру? почему решаете вы, что делать с моей собственностью, захочу только собакам сдавать буду, а захочу бригаду строителей, это не правила а бред.']"
      ]
     },
     "execution_count": 5,
     "metadata": {},
     "output_type": "execute_result"
    }
   ],
   "source": [
    "reviews[:5]"
   ]
  },
  {
   "cell_type": "markdown",
   "metadata": {},
   "source": [
    "### Токенизируем: с нормализацией и без"
   ]
  },
  {
   "cell_type": "code",
   "execution_count": 6,
   "metadata": {},
   "outputs": [],
   "source": [
    "from collections import defaultdict\n",
    "import matplotlib.pyplot as plt\n",
    "import math\n",
    "import numpy as np"
   ]
  },
  {
   "cell_type": "code",
   "execution_count": 7,
   "metadata": {},
   "outputs": [],
   "source": [
    "import string\n",
    "from nltk.tokenize import WhitespaceTokenizer, WordPunctTokenizer, TreebankWordTokenizer\n",
    "from nltk.corpus import stopwords\n",
    "\n",
    "stop_words = stopwords.words('russian')\n",
    "stop_words.extend([x for x in string.punctuation] + [\"«\", \"»\", \"это\", \"циан\", \"!!!\"])"
   ]
  },
  {
   "cell_type": "code",
   "execution_count": null,
   "metadata": {},
   "outputs": [],
   "source": [
    "import pymorphy2\n",
    "morph = pymorphy2.MorphAnalyzer()\n",
    "\n",
    "def normalize(x):\n",
    "    return morph.parse(x)[0].normal_form\n",
    "\n",
    "def extract_POS(x):\n",
    "    return morph.parse(x)[0].tag.POS or \"None\""
   ]
  },
  {
   "cell_type": "code",
   "execution_count": null,
   "metadata": {},
   "outputs": [],
   "source": [
    "normalize(\"славян\")"
   ]
  },
  {
   "cell_type": "code",
   "execution_count": null,
   "metadata": {},
   "outputs": [],
   "source": [
    "tokenized_reviews = []\n",
    "normalized_reviews = []\n",
    "\n",
    "for r in reviews:\n",
    "    tokens = [x for x in WordPunctTokenizer().tokenize(r) if x not in stop_words]\n",
    "    tokenized_reviews.append(tokens)\n",
    "    normalized_reviews.append([normalize(x) for x in tokens])"
   ]
  },
  {
   "cell_type": "code",
   "execution_count": null,
   "metadata": {},
   "outputs": [],
   "source": [
    "normalized_reviews"
   ]
  },
  {
   "cell_type": "code",
   "execution_count": null,
   "metadata": {},
   "outputs": [],
   "source": [
    "plt.figure(figsize=(16, 8))\n",
    "plt.hist([len(x) for x in tokenized_reviews], bins=np.arange(0, 130, 2), rwidth=1)\n",
    "plt.grid()\n",
    "plt.title(\"Количество слов в отзыве (после очистки от стоп-слов)\")\n",
    "plt.xticks(np.arange(0, 130, 10))\n",
    "plt.show()"
   ]
  },
  {
   "cell_type": "code",
   "execution_count": null,
   "metadata": {},
   "outputs": [],
   "source": [
    "POS_arr = []\n",
    "for r in tokenized_reviews:\n",
    "    POS_arr += [extract_POS(x) for x in r]"
   ]
  },
  {
   "cell_type": "code",
   "execution_count": null,
   "metadata": {},
   "outputs": [],
   "source": [
    "pos_counter = Counter(POS_arr)"
   ]
  },
  {
   "cell_type": "code",
   "execution_count": null,
   "metadata": {
    "scrolled": false
   },
   "outputs": [],
   "source": [
    "ntop = len(pos_counter)\n",
    "xs = np.arange(len(pos_counter))\n",
    "ys = [y for x, y in pos_counter.most_common(ntop)][::-1]\n",
    "labels = [x for x, y in pos_counter.most_common(ntop)][::-1]\n",
    "\n",
    "plt.figure(figsize=(16, 8))\n",
    "plt.title(\"Распределение слов по частям речи\")\n",
    "\n",
    "plt.barh(xs, ys)\n",
    "plt.yticks(xs, labels=[x + \"\" for x in labels])\n",
    "plt.ylabel(\"Labels\")\n",
    "plt.show()"
   ]
  },
  {
   "cell_type": "markdown",
   "metadata": {},
   "source": [
    "Расшифровка тэгов:\n",
    "https://pymorphy2.readthedocs.io/en/stable/user/grammemes.html#grammeme-docs"
   ]
  },
  {
   "cell_type": "markdown",
   "metadata": {},
   "source": [
    "### Считаем частоты  n-грамм"
   ]
  },
  {
   "cell_type": "code",
   "execution_count": null,
   "metadata": {},
   "outputs": [],
   "source": [
    "def make_n_grams(arr, n, sep=\" \"):\n",
    "    return [sep.join(arr[i:i+n]) for i in range(len(arr) - min(len(arr), n) + 1)]"
   ]
  },
  {
   "cell_type": "code",
   "execution_count": null,
   "metadata": {},
   "outputs": [],
   "source": [
    "N = 4"
   ]
  },
  {
   "cell_type": "code",
   "execution_count": null,
   "metadata": {},
   "outputs": [],
   "source": [
    "n_grams = defaultdict(list)\n",
    "for tokens in tokenized_reviews:\n",
    "    for i in range(1, N + 1):\n",
    "        n_grams[i] += make_n_grams(tokens, i)"
   ]
  },
  {
   "cell_type": "code",
   "execution_count": null,
   "metadata": {},
   "outputs": [],
   "source": [
    "counters = {}\n",
    "for key, value in n_grams.items():\n",
    "    counters[key] = Counter(value)"
   ]
  },
  {
   "cell_type": "code",
   "execution_count": null,
   "metadata": {
    "scrolled": false
   },
   "outputs": [],
   "source": [
    "ncols = 1\n",
    "nrows = math.ceil(N / ncols)\n",
    "ntop = 30\n",
    "\n",
    "fig, axs = plt.subplots(figsize=(10 * ncols, 10 * nrows), ncols=ncols, nrows=nrows)\n",
    "\n",
    "keys = []\n",
    "\n",
    "for i, key in enumerate(counters.keys()):\n",
    "    ax = axs.reshape(-1)[i]\n",
    "    xs = np.arange(ntop)\n",
    "    ys = [y for x, y in counters[key].most_common(ntop)][::-1]\n",
    "    labels = [x for x, y in counters[key].most_common(ntop)][::-1]\n",
    "    ax.grid()\n",
    "    ax.barh(xs, ys)\n",
    "    ax.set_yticks(xs)\n",
    "    ax.set_yticklabels(labels, rotation=0)\n",
    "\n",
    "plt.show()"
   ]
  },
  {
   "cell_type": "markdown",
   "metadata": {},
   "source": [
    "### То же самое, но с нормализацией"
   ]
  },
  {
   "cell_type": "code",
   "execution_count": null,
   "metadata": {},
   "outputs": [],
   "source": [
    "n_grams = defaultdict(list)\n",
    "for tokens in normalized_reviews:\n",
    "    for i in range(1, N + 1):\n",
    "        n_grams[i] += make_n_grams(tokens, i)"
   ]
  },
  {
   "cell_type": "code",
   "execution_count": null,
   "metadata": {},
   "outputs": [],
   "source": [
    "counters = {}\n",
    "for key, value in n_grams.items():\n",
    "    counters[key] = Counter(value)"
   ]
  },
  {
   "cell_type": "code",
   "execution_count": null,
   "metadata": {
    "scrolled": false
   },
   "outputs": [],
   "source": [
    "ncols = 1\n",
    "nrows = math.ceil(N / ncols)\n",
    "ntop = 30\n",
    "\n",
    "fig, axs = plt.subplots(figsize=(10 * ncols, 10 * nrows), ncols=ncols, nrows=nrows)\n",
    "\n",
    "keys = []\n",
    "\n",
    "for i, key in enumerate(counters.keys()):\n",
    "    ax = axs.reshape(-1)[i]\n",
    "    xs = np.arange(ntop)\n",
    "    ys = [y for x, y in counters[key].most_common(ntop)][::-1]\n",
    "    labels = [x for x, y in counters[key].most_common(ntop)][::-1]\n",
    "    ax.grid()\n",
    "    ax.barh(xs, ys)\n",
    "    ax.set_yticks(xs)\n",
    "    ax.set_yticklabels(labels, rotation=0)\n",
    "\n",
    "plt.show()"
   ]
  },
  {
   "cell_type": "markdown",
   "metadata": {},
   "source": [
    "## Некоторые примеры"
   ]
  },
  {
   "cell_type": "code",
   "execution_count": null,
   "metadata": {},
   "outputs": [],
   "source": [
    "examples = [\n",
    "    \"славянин славянин\",\n",
    "    \"дискриминация славянин дискриминация славянин\"\n",
    "]\n",
    "\n",
    "dct = {x:[] for x in examples}\n",
    "\n",
    "for i, x in enumerate(normalized_reviews):\n",
    "    key = \" \".join(x)\n",
    "    if key in examples:\n",
    "        dct[key].append(reviews[i])\n",
    "        \n",
    "for key, value in dct.items():\n",
    "    print(key)\n",
    "    for x in value:\n",
    "        print(\"\\t- \" + x)\n",
    "    print(\"---\")"
   ]
  },
  {
   "cell_type": "markdown",
   "metadata": {},
   "source": [
    "## Анализ тональности \n",
    "Как в https://habr.com/ru/post/472988/"
   ]
  },
  {
   "cell_type": "code",
   "execution_count": null,
   "metadata": {},
   "outputs": [],
   "source": [
    "!pip3 install textblob"
   ]
  },
  {
   "cell_type": "code",
   "execution_count": null,
   "metadata": {},
   "outputs": [],
   "source": [
    "from textblob import TextBlob"
   ]
  },
  {
   "cell_type": "code",
   "execution_count": null,
   "metadata": {},
   "outputs": [],
   "source": [
    "sentence = '''The platform provides universal access to the world's best education, partnering with top universities and organizations to offer courses online.'''\n",
    "\n",
    "analysisPol = TextBlob(sentence).polarity\n",
    "analysisSub = TextBlob(sentence).subjectivity\n",
    "\n",
    "analysisPol,analysisSub"
   ]
  },
  {
   "cell_type": "code",
   "execution_count": null,
   "metadata": {},
   "outputs": [],
   "source": [
    "sentence = '''Всё очень плохо я так больше не могу'''\n",
    "\n",
    "analysisPol = TextBlob(sentence).polarity\n",
    "analysisSub = TextBlob(sentence).subjectivity\n",
    "\n",
    "analysisPol,analysisSub"
   ]
  }
 ],
 "metadata": {
  "kernelspec": {
   "display_name": "Python 3",
   "language": "python",
   "name": "python3"
  },
  "language_info": {
   "codemirror_mode": {
    "name": "ipython",
    "version": 3
   },
   "file_extension": ".py",
   "mimetype": "text/x-python",
   "name": "python",
   "nbconvert_exporter": "python",
   "pygments_lexer": "ipython3",
   "version": "3.9.6"
  }
 },
 "nbformat": 4,
 "nbformat_minor": 4
}
